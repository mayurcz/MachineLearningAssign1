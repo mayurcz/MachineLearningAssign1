{
 "cells": [
  {
   "cell_type": "code",
   "execution_count": null,
   "metadata": {},
   "outputs": [],
   "source": [
    "#Task 1.2\n",
    "s=''\n",
    "for i in range(2000, 3200):\n",
    "    if i % 7 == 0 and i % 5 != 0:\n",
    "        s = s + str(i) + \",\"\n",
    "\n",
    "print(s)"
   ]
  },
  {
   "cell_type": "code",
   "execution_count": null,
   "metadata": {},
   "outputs": [],
   "source": [
    "#Task 1.3\n",
    "FirstName = input(\"Enter your first name:- \")\n",
    "LastName = input(\"Enter your last name:- \")\n",
    "FullName = LastName + \" \" + FirstName\n",
    "print(FullName[::-1])"
   ]
  },
  {
   "cell_type": "code",
   "execution_count": null,
   "metadata": {},
   "outputs": [],
   "source": [
    "#Task 1.4\n",
    "r = 12\n",
    "pi = 3.1415\n",
    "v = (4/3) * pi * (r**3)\n",
    "print (\"Volume of sphere is \" + str(v) + \" cm3\")"
   ]
  },
  {
   "cell_type": "code",
   "execution_count": null,
   "metadata": {},
   "outputs": [],
   "source": [
    "#Task 2.1\n",
    "List = []\n",
    "InputString = input(\"Enter values separated by comma: \")\n",
    "for i in range(len(InputString)):\n",
    "    if InputString[i] != \",\":\n",
    "        List.append(InputString[i])\n",
    "    \n",
    "print(List)"
   ]
  },
  {
   "cell_type": "code",
   "execution_count": null,
   "metadata": {},
   "outputs": [],
   "source": [
    "#Task 2.2\n",
    "for i in range(0,10):\n",
    "    if (i < 6):\n",
    "        for j in range(0,i):\n",
    "            print(\"*\", end = \"\")\n",
    "        print('')\n",
    "    else:\n",
    "        for j in range(i, 10):\n",
    "            print(\"*\", end = \"\")\n",
    "        print('')"
   ]
  },
  {
   "cell_type": "code",
   "execution_count": null,
   "metadata": {},
   "outputs": [],
   "source": [
    "#Task 2.3\n",
    "InputString = input(\"Enter string to be reversed:- \")\n",
    "print(InputString[::-1])"
   ]
  },
  {
   "cell_type": "code",
   "execution_count": null,
   "metadata": {},
   "outputs": [],
   "source": [
    "#Task 2.4\n",
    "print('''WE, THE PEOPLE OF INDIA, \\n\\thaving solemnly resolved to constitute India into a SOVEREIGN, \\n\\t\\tSOCIALIST, SECULAR, DEMOCRATIC REPUBLIC\\n\\t\\t and to secure to all its citizens''')"
   ]
  }
 ],
 "metadata": {
  "kernelspec": {
   "display_name": "Python 3",
   "language": "python",
   "name": "python3"
  },
  "language_info": {
   "codemirror_mode": {
    "name": "ipython",
    "version": 3
   },
   "file_extension": ".py",
   "mimetype": "text/x-python",
   "name": "python",
   "nbconvert_exporter": "python",
   "pygments_lexer": "ipython3",
   "version": "3.7.4"
  }
 },
 "nbformat": 4,
 "nbformat_minor": 2
}
